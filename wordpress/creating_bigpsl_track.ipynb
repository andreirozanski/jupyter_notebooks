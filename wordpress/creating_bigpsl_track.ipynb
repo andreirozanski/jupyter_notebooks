{
 "cells": [
  {
   "cell_type": "markdown",
   "metadata": {},
   "source": [
    "# Creating bigPsl track for UCSC genome browser"
   ]
  },
  {
   "cell_type": "markdown",
   "metadata": {},
   "source": [
    "Starting point is to have a [psl](https://genome.ucsc.edu/FAQ/FAQformat.html#format2) file.\n",
    "\n",
    "Its also needed to have in your path [pslToBigPsl](http://hgdownload.soe.ucsc.edu/admin/exe/linux.x86_64/pslToBigPsl), [bedToBigBed](http://hgdownload.soe.ucsc.edu/admin/exe/linux.x86_64/bedToBigBed), [bigPsl.as](https://genome.ucsc.edu/goldenPath/help/examples/bigPsl.as) and chrom.sizes file.\n",
    "\n",
    "The Makefile to automatize it is:"
   ]
  },
  {
   "cell_type": "code",
   "execution_count": null,
   "metadata": {},
   "outputs": [],
   "source": [
    "SHELL=/bin/bash\n",
    ".ONESHELL:\n",
    "\n",
    "PSL=$(wildcard *.psl)\n",
    "TXT:=$(addsuffix .txt, $(basename $(PSL)))\n",
    "BB:=$(addsuffix .bb,$(basename $(TXT)))\n",
    "\n",
    ".PHONY: all clear\n",
    "\n",
    "\n",
    "all: $(BB)\n",
    "\n",
    "\n",
    "%.txt: %.psl\n",
    "        pslToBigPsl $< stdout | sort -k1,1 -k2,2n > $@\n",
    "\n",
    "%.bb: %.txt\n",
    "        wget -c https://genome.ucsc.edu/goldenPath/help/examples/bigPsl.as && \\\n",
    "        bedToBigBed -as=bigPsl.as -type=bed12+13 -tab $< chrom.sizes $@\n",
    "\n",
    "clear:\n",
    "        rm *.txt && \\\n",
    "        rm *.bb"
   ]
  },
  {
   "cell_type": "markdown",
   "metadata": {},
   "source": [
    "A trackDb.ra snippet:"
   ]
  },
  {
   "cell_type": "code",
   "execution_count": null,
   "metadata": {},
   "outputs": [],
   "source": [
    "track FOOBAR\n",
    "parent foo\n",
    "shortLabel FOOBAR\n",
    "longLabel FOOBAR\n",
    "group genes\n",
    "priority 4\n",
    "visibility dense\n",
    "color 51,153,255\n",
    "altcolor 0,102,0\n",
    "searchTable FOOBAR\n",
    "searchType bigBed\n",
    "searchMethod prefix\n",
    "maxWindowToDraw 10000000\n",
    "colorByStrand 50,50,150 150,50,50\n",
    "type bigBed 6 +\n",
    "bigDataUrl /gbdb/foo/bar\n",
    "spectrum on"
   ]
  },
  {
   "cell_type": "markdown",
   "metadata": {},
   "source": [
    "***"
   ]
  },
  {
   "cell_type": "markdown",
   "metadata": {},
   "source": [
    "# References"
   ]
  },
  {
   "cell_type": "markdown",
   "metadata": {},
   "source": [
    "[UCSC Genome Browser - bigPsl](https://genome.ucsc.edu/goldenPath/help/bigPsl.html)"
   ]
  }
 ],
 "metadata": {
  "kernelspec": {
   "display_name": "Bash",
   "language": "bash",
   "name": "bash"
  },
  "language_info": {
   "codemirror_mode": "shell",
   "file_extension": ".sh",
   "mimetype": "text/x-sh",
   "name": "bash"
  }
 },
 "nbformat": 4,
 "nbformat_minor": 4
}
